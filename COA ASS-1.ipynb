{
 "cells": [
  {
   "cell_type": "markdown",
   "metadata": {},
   "source": [
    "# ECE-3004 Computer Organization and Architectures"
   ]
  },
  {
   "cell_type": "markdown",
   "metadata": {},
   "source": [
    "# ASSIGNMENT-1"
   ]
  },
  {
   "cell_type": "markdown",
   "metadata": {},
   "source": [
    "# FUNCTION TO ADD TWO BINARY NUMBERS"
   ]
  },
  {
   "cell_type": "code",
   "execution_count": 2,
   "metadata": {},
   "outputs": [],
   "source": [
    "def add(A, M):\n",
    "    carry = 0\n",
    "    Sum = ''\n",
    "  \n",
    "    # Iterating through the number\n",
    "    # A. Here, it is assumed that \n",
    "    # the length of both the numbers\n",
    "    # is same\n",
    "    for i in range (len(A)-1, -1, -1):\n",
    "  \n",
    "        # Adding the values at both \n",
    "        # the indices along with the \n",
    "        # carry\n",
    "        temp = int(A[i]) + int(M[i]) + carry\n",
    "  \n",
    "        # If the binary number exceeds 1\n",
    "        if (temp>1):\n",
    "            Sum += str(temp % 2)\n",
    "            carry = 1\n",
    "        else:\n",
    "            Sum += str(temp)\n",
    "            carry = 0\n",
    "  \n",
    "    # Returning the sum from \n",
    "    # MSB to LSB\n",
    "    return Sum[::-1]    \n",
    "  \n",
    "\n"
   ]
  },
  {
   "cell_type": "markdown",
   "metadata": {},
   "source": [
    "# FUNCTION TO FIND THE COMPLIMENT OF GIVEN BINARY NUMBER"
   ]
  },
  {
   "cell_type": "code",
   "execution_count": null,
   "metadata": {},
   "outputs": [],
   "source": [
    "def compliment(m):\n",
    "    M = ''\n",
    "  \n",
    "    # Iterating through the number\n",
    "    for i in range (0, len(m)):\n",
    "  \n",
    "        # Computing the compliment\n",
    "        M += str((int(m[i]) + 1) % 2)\n",
    "  \n",
    "    # Adding 1 to the computed \n",
    "    # value\n",
    "    M = add(M, '0001')\n",
    "    return M"
   ]
  },
  {
   "cell_type": "markdown",
   "metadata": {},
   "source": [
    "# FUNCTION TO FIND QUOTIENT AND REMINDER USING RESTORING DIVISION ALGORITHM"
   ]
  },
  {
   "cell_type": "code",
   "execution_count": null,
   "metadata": {},
   "outputs": [],
   "source": [
    "def restoringDivision(Q, M, A):\n",
    "  \n",
    "    # Computing the length of the\n",
    "    # number\n",
    "    count = len(M)\n",
    "  \n",
    "    # Printing the initial values\n",
    "    # of the accumulator, dividend\n",
    "    # and divisor\n",
    "    print ('Initial Values: A:', A, \n",
    "           ' Q:', Q, ' M:', M)\n",
    "  \n",
    "    # The number of steps is equal to the \n",
    "    # length of the binary number\n",
    "    while (count):\n",
    "  \n",
    "        # Printing the values at every step\n",
    "        print (\"\\nstep:\", len(M)-count + 1, end = '')\n",
    "          \n",
    "        # Step1: Left Shift, assigning LSB of Q \n",
    "        # to MSB of A.\n",
    "        print (' Left Shift and Subtract: ', end = '')\n",
    "        A = A[1:] + Q[0]\n",
    "  \n",
    "        # Step2: Subtract the Divisor from A \n",
    "        # (Perform A - M).\n",
    "        comp_M = compliment(M)\n",
    "  \n",
    "        # Taking the complement of M and \n",
    "        # adding to A.\n",
    "        A = add(A, comp_M)\n",
    "        print(' A:', A)\n",
    "        print('A:', A, ' Q:', Q[1:]+'_', end ='')\n",
    "          \n",
    "        if (A[0] == '1'):\n",
    "  \n",
    "            # The step is unsuccessful \n",
    "            # and the quotient bit \n",
    "            # will be '0'\n",
    "            Q = Q[1:] + '0'\n",
    "            print ('  -Unsuccessful')\n",
    "  \n",
    "            # Restoration of A is required\n",
    "            A = add(A, M)\n",
    "            print ('A:', A, ' Q:', Q, ' -Restoration')\n",
    "              \n",
    "        else:\n",
    "  \n",
    "            # Else, the step is successful \n",
    "            # and the quotient bit \n",
    "            # will be '1'\n",
    "            Q = Q[1:] + '1'\n",
    "            print (' Successful')\n",
    "  \n",
    "            # No Restoration of A.\n",
    "            print ('A:', A, ' Q:',\n",
    "                   Q, ' -No Restoration')\n",
    "        count -= 1\n",
    "  \n",
    "    # Printing the final quotient \n",
    "    # and remainder of the given \n",
    "    # dividend and divisor. \n",
    "    print ('\\nQuotient(Q):', Q,\n",
    "           ' Remainder(A):', A) "
   ]
  },
  {
   "cell_type": "markdown",
   "metadata": {},
   "source": [
    "# FINDING THE QUOTIENT AND REMINDER USING RESTORING DIVISION ALGORITHM"
   ]
  },
  {
   "cell_type": "code",
   "execution_count": 4,
   "metadata": {},
   "outputs": [
    {
     "name": "stdout",
     "output_type": "stream",
     "text": [
      "Initial Values: A: 0000  Q: 0110  M: 0100\n",
      "\n",
      "step: 1 Left Shift and Subtract:  A: 1100\n",
      "A: 1100  Q: 110_  -Unsuccessful\n",
      "A: 0000  Q: 1100  -Restoration\n",
      "\n",
      "step: 2 Left Shift and Subtract:  A: 1101\n",
      "A: 1101  Q: 100_  -Unsuccessful\n",
      "A: 0001  Q: 1000  -Restoration\n",
      "\n",
      "step: 3 Left Shift and Subtract:  A: 1111\n",
      "A: 1111  Q: 000_  -Unsuccessful\n",
      "A: 0011  Q: 0000  -Restoration\n",
      "\n",
      "step: 4 Left Shift and Subtract:  A: 0010\n",
      "A: 0010  Q: 000_ Successful\n",
      "A: 0010  Q: 0001  -No Restoration\n",
      "\n",
      "Quotient(Q): 0001  Remainder(A): 0010\n"
     ]
    }
   ],
   "source": [
    "if __name__ == \"__main__\":\n",
    "  \n",
    "    dividend = '0110'\n",
    "    divisor = '0100'\n",
    "  \n",
    "    accumulator = '0' * len(dividend)\n",
    "  \n",
    "    restoringDivision(dividend,divisor, accumulator)"
   ]
  },
  {
   "cell_type": "code",
   "execution_count": 5,
   "metadata": {},
   "outputs": [
    {
     "name": "stdout",
     "output_type": "stream",
     "text": [
      "Initial Values: A: 0000  Q: 0111  M: 0100\n",
      "\n",
      "step: 1 Left Shift and Subtract:  A: 1100\n",
      "A: 1100  Q: 111_  -Unsuccessful\n",
      "A: 0000  Q: 1110  -Restoration\n",
      "\n",
      "step: 2 Left Shift and Subtract:  A: 1101\n",
      "A: 1101  Q: 110_  -Unsuccessful\n",
      "A: 0001  Q: 1100  -Restoration\n",
      "\n",
      "step: 3 Left Shift and Subtract:  A: 1111\n",
      "A: 1111  Q: 100_  -Unsuccessful\n",
      "A: 0011  Q: 1000  -Restoration\n",
      "\n",
      "step: 4 Left Shift and Subtract:  A: 0011\n",
      "A: 0011  Q: 000_ Successful\n",
      "A: 0011  Q: 0001  -No Restoration\n",
      "\n",
      "Quotient(Q): 0001  Remainder(A): 0011\n"
     ]
    }
   ],
   "source": [
    "if __name__ == \"__main__\":\n",
    "  \n",
    "    dividend = '0111'\n",
    "    divisor = '0100'\n",
    "  \n",
    "    accumulator = '0' * len(dividend)\n",
    "  \n",
    "    restoringDivision(dividend,\n",
    "                      divisor, \n",
    "                      accumulator)"
   ]
  },
  {
   "cell_type": "code",
   "execution_count": 6,
   "metadata": {},
   "outputs": [
    {
     "name": "stdout",
     "output_type": "stream",
     "text": [
      "Initial Values: A: 0000  Q: 0101  M: 0010\n",
      "\n",
      "step: 1 Left Shift and Subtract:  A: 1110\n",
      "A: 1110  Q: 101_  -Unsuccessful\n",
      "A: 0000  Q: 1010  -Restoration\n",
      "\n",
      "step: 2 Left Shift and Subtract:  A: 1111\n",
      "A: 1111  Q: 010_  -Unsuccessful\n",
      "A: 0001  Q: 0100  -Restoration\n",
      "\n",
      "step: 3 Left Shift and Subtract:  A: 0000\n",
      "A: 0000  Q: 100_ Successful\n",
      "A: 0000  Q: 1001  -No Restoration\n",
      "\n",
      "step: 4 Left Shift and Subtract:  A: 1111\n",
      "A: 1111  Q: 001_  -Unsuccessful\n",
      "A: 0001  Q: 0010  -Restoration\n",
      "\n",
      "Quotient(Q): 0010  Remainder(A): 0001\n"
     ]
    }
   ],
   "source": [
    "if __name__ == \"__main__\":\n",
    "  \n",
    "    dividend = '0101'\n",
    "    divisor = '0010'\n",
    "  \n",
    "    accumulator = '0' * len(dividend)\n",
    "  \n",
    "    restoringDivision(dividend,\n",
    "                      divisor, \n",
    "                      accumulator)"
   ]
  },
  {
   "cell_type": "code",
   "execution_count": null,
   "metadata": {},
   "outputs": [],
   "source": []
  },
  {
   "cell_type": "code",
   "execution_count": null,
   "metadata": {},
   "outputs": [],
   "source": []
  },
  {
   "cell_type": "code",
   "execution_count": null,
   "metadata": {},
   "outputs": [],
   "source": []
  },
  {
   "cell_type": "code",
   "execution_count": null,
   "metadata": {},
   "outputs": [],
   "source": []
  },
  {
   "cell_type": "code",
   "execution_count": null,
   "metadata": {},
   "outputs": [],
   "source": []
  }
 ],
 "metadata": {
  "kernelspec": {
   "display_name": "Python 3",
   "language": "python",
   "name": "python3"
  },
  "language_info": {
   "codemirror_mode": {
    "name": "ipython",
    "version": 3
   },
   "file_extension": ".py",
   "mimetype": "text/x-python",
   "name": "python",
   "nbconvert_exporter": "python",
   "pygments_lexer": "ipython3",
   "version": "3.7.3"
  }
 },
 "nbformat": 4,
 "nbformat_minor": 2
}
